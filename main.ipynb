{
 "cells": [
  {
   "cell_type": "markdown",
   "metadata": {},
   "source": [
    "# 0. GPT From Scratch\n",
    "\n",
    "이 노트북은 GPT 논문을 기반으로 간단한 클론코딩을 통해 세익스피어풍의 작품을 생성해내는 언어 모델을 구현한 것입니다.\n",
    "\n",
    "1. dataset:  tiny shakespere dataset \n",
    "2. tokenization : character-level \n",
    "\n",
    "언어 모델의 학습 방법론과 트랜스포머 구조에 대한 아주 기초적인 이해를 보유하고 있다고 가정하고 작성을 진행하겠습니다."
   ]
  },
  {
   "cell_type": "markdown",
   "metadata": {},
   "source": [
    "# 1. Dataset Preperation & Analysis"
   ]
  },
  {
   "cell_type": "code",
   "execution_count": 15,
   "metadata": {},
   "outputs": [],
   "source": [
    "with open('./datas/input.txt', 'r', encoding='utf-8') as f:\n",
    "    text = f.read()"
   ]
  },
  {
   "cell_type": "code",
   "execution_count": 41,
   "metadata": {},
   "outputs": [
    {
     "name": "stdout",
     "output_type": "stream",
     "text": [
      "데이터셋의 총 길이: 1115394\n",
      "데이터셋의 첫 1000자:\n",
      "==============================\n",
      "First Citizen:\n",
      "Before we proceed any further, hear me speak.\n",
      "\n",
      "All:\n",
      "Speak, speak.\n",
      "\n",
      "First Citizen:\n",
      "You are all resolved rather to die than to famish?\n",
      "\n",
      "All:\n",
      "Resolved. resolved.\n",
      "\n",
      "First Citizen:\n",
      "First, you know Caius Marcius is chief enemy to the people.\n",
      "\n",
      "All:\n",
      "We know't, we know't.\n",
      "\n",
      "First Citizen:\n",
      "Let us kill him, and we'll have corn at our own price.\n",
      "Is't a verdict?\n",
      "\n",
      "All:\n",
      "No more talking on't; let it be done: away, away!\n",
      "\n",
      "Second Citizen:\n",
      "One word, good citizens.\n",
      "\n",
      "First Citizen:\n",
      "We are accounted poor citizens, the patricians good.\n",
      "What authority surfeits on would relieve us: if they\n",
      "would yield us but the superfluity, while it were\n",
      "wholesome, we might guess they relieved us humanely;\n",
      "but they think we are too dear: the leanness that\n",
      "afflicts us, the object of our misery, is as an\n",
      "inventory to particularise their abundance; our\n",
      "sufferance is a gain to them Let us revenge this with\n",
      "our pikes, ere we become rakes: for the gods know I\n",
      "speak this in hunger for bread, not in thirst for revenge.\n",
      "\n",
      "==============================\n"
     ]
    }
   ],
   "source": [
    "# 데이터셋에 대한 여러 가지를 확인해봅니다. \n",
    "print(\"데이터셋의 총 길이:\", len(text))\n",
    "print(\"데이터셋의 첫 1000자:\\n==============================\\n\" + text[:1000] + \"==============================\" )"
   ]
  },
  {
   "cell_type": "markdown",
   "metadata": {},
   "source": [
    "# 2. Tokenizing & Encoding Text - chararcter level\n",
    "\n",
    "- 간단하게 character level로 토큰화 및 인코딩하기로 했습니다. \n",
    "- 구현이 간편하지만 인코딩된 토큰이 의미를 담아내지 못하므로\n",
    "- 모델 성능은 상당히 낮을 것으로 예상됩니다. "
   ]
  },
  {
   "cell_type": "code",
   "execution_count": 44,
   "metadata": {},
   "outputs": [
    {
     "name": "stdout",
     "output_type": "stream",
     "text": [
      "vocab: \n",
      " !$&',-.3:;?ABCDEFGHIJKLMNOPQRSTUVWXYZabcdefghijklmnopqrstuvwxyz\n",
      "vocab size: 65\n"
     ]
    }
   ],
   "source": [
    "# Dataset의 모든 character 추출 및 등장 빈도만큼 오름차순 정렬\n",
    "# character-level이므로 vocab은 등장한 모든 문자의 모음이 됩니다. \n",
    "chars = sorted(list(set(text)))\n",
    "vocab_size = len(chars)\n",
    "\n",
    "print(\"vocab:\", ''.join(chars))\n",
    "print(\"vocab size:\", vocab_size)"
   ]
  },
  {
   "cell_type": "code",
   "execution_count": 45,
   "metadata": {},
   "outputs": [
    {
     "name": "stdout",
     "output_type": "stream",
     "text": [
      "========== 예시 ==========\n",
      "[46, 47, 1, 58, 46, 43, 56, 43, 2]\n",
      "What's your name?\n"
     ]
    }
   ],
   "source": [
    "# 문자 하나 당 번호 하나를 매깁니다. \n",
    "stoi = {ch:i for i, ch in enumerate(chars)}\n",
    "itos = {i:ch for i, ch in enumerate(chars)}\n",
    "\n",
    "# 문자열과 벡터를 오가는 인코딩/디코딩 함수를 만들어줍니다. \n",
    "encode = lambda s: [stoi[c] for c in s]\n",
    "decode = lambda l: ''.join([itos[i] for i in l])\n",
    "\n",
    "print(\"========== 예시 ==========\")\n",
    "print(encode(\"hi there!\"))\n",
    "print(decode(encode(\"What's your name?\")))"
   ]
  },
  {
   "cell_type": "code",
   "execution_count": null,
   "metadata": {},
   "outputs": [
    {
     "name": "stdout",
     "output_type": "stream",
     "text": [
      "data의 shape: torch.Size([1115394])\n",
      "data의 dtype: torch.int64\n"
     ]
    }
   ],
   "source": [
    "# 전체 데이터셋 인코딩\n",
    "\n",
    "# 위 인코더로 text를 인코딩한 뒤 torch tensor 형태로 전체 데이터를 준비해둡니다. \n",
    "import torch\n",
    "data = torch.tensor(encode(text), dtype=torch.long)\n",
    "print(\"data의 shape:\", data.shape)\n",
    "print(\"data의 dtype:\", data.dtype)\n",
    "# print(data[:1000])"
   ]
  },
  {
   "cell_type": "markdown",
   "metadata": {},
   "source": [
    "# 3. Train / Validation / Test Split"
   ]
  },
  {
   "cell_type": "code",
   "execution_count": 49,
   "metadata": {},
   "outputs": [],
   "source": [
    "# train과 test data를 분리한다.\n",
    "# 비율은 약 10%로 정함.\n",
    "n = int(0.9 * len(data))\n",
    "train_data = data[:n]\n",
    "val_data = data[n:]"
   ]
  },
  {
   "cell_type": "markdown",
   "metadata": {},
   "source": [
    "이 데이터들을 \"batch * context length\" shape의 tensor 단위로 묶어낸다. "
   ]
  },
  {
   "cell_type": "code",
   "execution_count": 54,
   "metadata": {},
   "outputs": [
    {
     "name": "stdout",
     "output_type": "stream",
     "text": [
      "tensor([18, 47, 56, 57, 58,  1, 15, 47, 58])\n"
     ]
    }
   ],
   "source": [
    "# 모델의 context window size를 정한다. \n",
    "context_length = 8\n",
    "print(train_data[:context_length + 1])"
   ]
  },
  {
   "cell_type": "code",
   "execution_count": 55,
   "metadata": {},
   "outputs": [
    {
     "name": "stdout",
     "output_type": "stream",
     "text": [
      "input이 tensor([18])일 때의 target: 47\n",
      "input이 tensor([18, 47])일 때의 target: 56\n",
      "input이 tensor([18, 47, 56])일 때의 target: 57\n",
      "input이 tensor([18, 47, 56, 57])일 때의 target: 58\n",
      "input이 tensor([18, 47, 56, 57, 58])일 때의 target: 1\n",
      "input이 tensor([18, 47, 56, 57, 58,  1])일 때의 target: 15\n",
      "input이 tensor([18, 47, 56, 57, 58,  1, 15])일 때의 target: 47\n",
      "input이 tensor([18, 47, 56, 57, 58,  1, 15, 47])일 때의 target: 58\n"
     ]
    }
   ],
   "source": [
    "# 예시\n",
    "x = train_data[:context_length]\n",
    "y = train_data[1: context_length + 1]\n",
    "for i in range(context_length):\n",
    "    context = x[:i + 1]\n",
    "    target = y[i]\n",
    "    print(f'input이 {context}일 때의 target: {target}')"
   ]
  },
  {
   "cell_type": "code",
   "execution_count": 53,
   "metadata": {},
   "outputs": [
    {
     "name": "stdout",
     "output_type": "stream",
     "text": [
      "입력: \n",
      "torch.Size([4, 8])\n",
      "tensor([[24, 43, 58,  5, 57,  1, 46, 43],\n",
      "        [44, 53, 56,  1, 58, 46, 39, 58],\n",
      "        [52, 58,  1, 58, 46, 39, 58,  1],\n",
      "        [25, 17, 27, 10,  0, 21,  1, 54]])\n",
      "target: \n",
      "torch.Size([4, 8])\n",
      "tensor([[43, 58,  5, 57,  1, 46, 43, 39],\n",
      "        [53, 56,  1, 58, 46, 39, 58,  1],\n",
      "        [58,  1, 58, 46, 39, 58,  1, 46],\n",
      "        [17, 27, 10,  0, 21,  1, 54, 39]])\n"
     ]
    }
   ],
   "source": [
    "# 모델의 batch size를 정한다. \n",
    "torch.manual_seed(1337)\n",
    "batch_size = 4\n",
    "context_length = 8\n",
    "\n",
    "def get_batch(split):\n",
    "    '''\n",
    "    get_batch: \n",
    "\n",
    "    split: 어떤 데이터에 대한 batch를 불러올 건지 결정. \n",
    "    'train'인 경우 train_data에 대해서, 아닌 경우 val_data에 대해서 가져옴.\n",
    "    '''\n",
    "    # 데이터 불러오기\n",
    "    data = train_data if split == 'train' else val_data \n",
    "\n",
    "    # batch size 개수의 랜덤한 offset 생성. \n",
    "    ix = torch.randint(len(data) - context_length, (batch_size,)) \n",
    "\n",
    "    # 랜덤 생성한 시작지점 ix에 대한 x, y 가져오기\n",
    "    x = torch.stack([data[i : i + context_length] for i in ix])\n",
    "    y = torch.stack([data[i + 1 : i + context_length + 1] for i in ix])\n",
    "    return x, y\n",
    "\n",
    "xb, yb = get_batch('train')\n",
    "print('입력: ')\n",
    "print(xb.shape)\n",
    "print(xb)\n",
    "print('target: ')\n",
    "print(yb.shape)\n",
    "print(yb)"
   ]
  },
  {
   "cell_type": "code",
   "execution_count": null,
   "metadata": {},
   "outputs": [],
   "source": []
  }
 ],
 "metadata": {
  "kernelspec": {
   "display_name": "GPTFromScratch",
   "language": "python",
   "name": "python3"
  },
  "language_info": {
   "codemirror_mode": {
    "name": "ipython",
    "version": 3
   },
   "file_extension": ".py",
   "mimetype": "text/x-python",
   "name": "python",
   "nbconvert_exporter": "python",
   "pygments_lexer": "ipython3",
   "version": "3.8.20"
  }
 },
 "nbformat": 4,
 "nbformat_minor": 2
}
