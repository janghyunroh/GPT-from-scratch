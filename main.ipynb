{
 "cells": [
  {
   "cell_type": "markdown",
   "metadata": {},
   "source": [
    "# 0. GPT From Scratch\n",
    "\n",
    "이 노트북은 GPT 논문을 기반으로 간단한 클론코딩을 통해 세익스피어풍의 작품을 생성해내는 언어 모델을 구현한 것입니다.\n",
    "\n",
    "1. dataset:  tiny shakespere dataset \n",
    "2. tokenization : character-level \n",
    "\n",
    "언어 모델의 학습 방법론과 트랜스포머 구조에 대한 아주 기초적인 이해를 보유하고 있다고 가정하고 작성을 진행하겠습니다."
   ]
  },
  {
   "cell_type": "markdown",
   "metadata": {},
   "source": [
    "# 1. Dataset Preperation & Analysis"
   ]
  },
  {
   "cell_type": "code",
   "execution_count": 76,
   "metadata": {},
   "outputs": [],
   "source": [
    "with open('./datas/input.txt', 'r', encoding='utf-8') as f:\n",
    "    text = f.read()"
   ]
  },
  {
   "cell_type": "code",
   "execution_count": 77,
   "metadata": {},
   "outputs": [
    {
     "name": "stdout",
     "output_type": "stream",
     "text": [
      "데이터셋의 총 길이: 1115394\n",
      "데이터셋의 첫 1000자:\n",
      "==============================\n",
      "First Citizen:\n",
      "Before we proceed any further, hear me speak.\n",
      "\n",
      "All:\n",
      "Speak, speak.\n",
      "\n",
      "First Citizen:\n",
      "You are all resolved rather to die than to famish?\n",
      "\n",
      "All:\n",
      "Resolved. resolved.\n",
      "\n",
      "First Citizen:\n",
      "First, you know Caius Marcius is chief enemy to the people.\n",
      "\n",
      "All:\n",
      "We know't, we know't.\n",
      "\n",
      "First Citizen:\n",
      "Let us kill him, and we'll have corn at our own price.\n",
      "Is't a verdict?\n",
      "\n",
      "All:\n",
      "No more talking on't; let it be done: away, away!\n",
      "\n",
      "Second Citizen:\n",
      "One word, good citizens.\n",
      "\n",
      "First Citizen:\n",
      "We are accounted poor citizens, the patricians good.\n",
      "What authority surfeits on would relieve us: if they\n",
      "would yield us but the superfluity, while it were\n",
      "wholesome, we might guess they relieved us humanely;\n",
      "but they think we are too dear: the leanness that\n",
      "afflicts us, the object of our misery, is as an\n",
      "inventory to particularise their abundance; our\n",
      "sufferance is a gain to them Let us revenge this with\n",
      "our pikes, ere we become rakes: for the gods know I\n",
      "speak this in hunger for bread, not in thirst for revenge.\n",
      "\n",
      "==============================\n"
     ]
    }
   ],
   "source": [
    "# 데이터셋에 대한 여러 가지를 확인해봅니다. \n",
    "print(\"데이터셋의 총 길이:\", len(text))\n",
    "print(\"데이터셋의 첫 1000자:\\n==============================\\n\" + text[:1000] + \"==============================\" )"
   ]
  },
  {
   "cell_type": "markdown",
   "metadata": {},
   "source": [
    "# 2. Tokenizing & Encoding Text - chararcter level\n",
    "\n",
    "- 간단하게 character level로 토큰화 및 인코딩하기로 결정함. \n",
    "- 구현이 간편하지만 인코딩된 토큰이 의미를 담아내지 못하므로\n",
    "- 모델 성능은 상당히 낮을 것으로 예상됨. "
   ]
  },
  {
   "cell_type": "code",
   "execution_count": 78,
   "metadata": {},
   "outputs": [
    {
     "name": "stdout",
     "output_type": "stream",
     "text": [
      "vocab: \n",
      " !$&',-.3:;?ABCDEFGHIJKLMNOPQRSTUVWXYZabcdefghijklmnopqrstuvwxyz\n",
      "vocab size: 65\n"
     ]
    }
   ],
   "source": [
    "# Dataset의 모든 character 추출 및 등장 빈도만큼 오름차순 정렬\n",
    "# character-level이므로 vocab은 등장한 모든 문자의 모음이 됩니다. \n",
    "chars = sorted(list(set(text)))\n",
    "vocab_size = len(chars)\n",
    "\n",
    "print(\"vocab:\", ''.join(chars))\n",
    "print(\"vocab size:\", vocab_size)"
   ]
  },
  {
   "cell_type": "code",
   "execution_count": 79,
   "metadata": {},
   "outputs": [
    {
     "name": "stdout",
     "output_type": "stream",
     "text": [
      "========== 예시 ==========\n",
      "[46, 47, 1, 58, 46, 43, 56, 43, 2]\n",
      "What's your name?\n"
     ]
    }
   ],
   "source": [
    "# 문자 하나 당 번호 하나를 매깁니다. \n",
    "stoi = {ch:i for i, ch in enumerate(chars)}\n",
    "itos = {i:ch for i, ch in enumerate(chars)}\n",
    "\n",
    "# 문자열과 벡터를 오가는 인코딩/디코딩 함수를 만들어줍니다. \n",
    "encode = lambda s: [stoi[c] for c in s]\n",
    "decode = lambda l: ''.join([itos[i] for i in l])\n",
    "\n",
    "print(\"========== 예시 ==========\")\n",
    "print(encode(\"hi there!\"))\n",
    "print(decode(encode(\"What's your name?\")))"
   ]
  },
  {
   "cell_type": "code",
   "execution_count": 80,
   "metadata": {},
   "outputs": [
    {
     "name": "stdout",
     "output_type": "stream",
     "text": [
      "data의 shape: torch.Size([1115394])\n",
      "data의 dtype: torch.int64\n"
     ]
    }
   ],
   "source": [
    "# 전체 데이터셋 인코딩\n",
    "\n",
    "# 위 인코더로 text를 인코딩한 뒤 torch tensor 형태로 전체 데이터를 준비해둡니다. \n",
    "import torch\n",
    "data = torch.tensor(encode(text), dtype=torch.long)\n",
    "print(\"data의 shape:\", data.shape)\n",
    "print(\"data의 dtype:\", data.dtype)\n",
    "# print(data[:1000])"
   ]
  },
  {
   "cell_type": "markdown",
   "metadata": {},
   "source": [
    "# 3. Train / Validation / Test Split"
   ]
  },
  {
   "cell_type": "code",
   "execution_count": 81,
   "metadata": {},
   "outputs": [],
   "source": [
    "# train과 test data를 분리한다.\n",
    "# 비율은 약 10%로 정함.\n",
    "n = int(0.9 * len(data))\n",
    "train_data = data[:n]\n",
    "val_data = data[n:]"
   ]
  },
  {
   "cell_type": "markdown",
   "metadata": {},
   "source": [
    "이 데이터들을 \"batch * context length\" shape의 tensor 단위로 묶어낸다. "
   ]
  },
  {
   "cell_type": "code",
   "execution_count": 82,
   "metadata": {},
   "outputs": [
    {
     "name": "stdout",
     "output_type": "stream",
     "text": [
      "tensor([18, 47, 56, 57, 58,  1, 15, 47, 58])\n"
     ]
    }
   ],
   "source": [
    "# 모델의 context window size를 정한다. \n",
    "context_length = 8\n",
    "print(train_data[:context_length + 1])"
   ]
  },
  {
   "cell_type": "code",
   "execution_count": 83,
   "metadata": {},
   "outputs": [
    {
     "name": "stdout",
     "output_type": "stream",
     "text": [
      "input이 tensor([18])일 때의 target: 47\n",
      "input이 tensor([18, 47])일 때의 target: 56\n",
      "input이 tensor([18, 47, 56])일 때의 target: 57\n",
      "input이 tensor([18, 47, 56, 57])일 때의 target: 58\n",
      "input이 tensor([18, 47, 56, 57, 58])일 때의 target: 1\n",
      "input이 tensor([18, 47, 56, 57, 58,  1])일 때의 target: 15\n",
      "input이 tensor([18, 47, 56, 57, 58,  1, 15])일 때의 target: 47\n",
      "input이 tensor([18, 47, 56, 57, 58,  1, 15, 47])일 때의 target: 58\n"
     ]
    }
   ],
   "source": [
    "# 예시\n",
    "x = train_data[:context_length]\n",
    "y = train_data[1: context_length + 1]\n",
    "for i in range(context_length):\n",
    "    context = x[:i + 1]\n",
    "    target = y[i]\n",
    "    print(f'input이 {context}일 때의 target: {target}')"
   ]
  },
  {
   "cell_type": "code",
   "execution_count": 84,
   "metadata": {},
   "outputs": [
    {
     "name": "stdout",
     "output_type": "stream",
     "text": [
      "입력: \n",
      "torch.Size([4, 8])\n",
      "tensor([[24, 43, 58,  5, 57,  1, 46, 43],\n",
      "        [44, 53, 56,  1, 58, 46, 39, 58],\n",
      "        [52, 58,  1, 58, 46, 39, 58,  1],\n",
      "        [25, 17, 27, 10,  0, 21,  1, 54]])\n",
      "Let's he\n",
      "for that\n",
      "nt that \n",
      "MEO:\n",
      "I p\n",
      "========================================\n",
      "target: \n",
      "torch.Size([4, 8])\n",
      "tensor([[43, 58,  5, 57,  1, 46, 43, 39],\n",
      "        [53, 56,  1, 58, 46, 39, 58,  1],\n",
      "        [58,  1, 58, 46, 39, 58,  1, 46],\n",
      "        [17, 27, 10,  0, 21,  1, 54, 39]])\n",
      "et's hea\n",
      "or that \n",
      "t that h\n",
      "EO:\n",
      "I pa\n",
      "========================================\n",
      "입력이 [24]일 때 target: 43\n",
      "입력이 [24, 43]일 때 target: 58\n",
      "입력이 [24, 43, 58]일 때 target: 5\n",
      "입력이 [24, 43, 58, 5]일 때 target: 57\n",
      "입력이 [24, 43, 58, 5, 57]일 때 target: 1\n",
      "입력이 [24, 43, 58, 5, 57, 1]일 때 target: 46\n",
      "입력이 [24, 43, 58, 5, 57, 1, 46]일 때 target: 43\n",
      "입력이 [24, 43, 58, 5, 57, 1, 46, 43]일 때 target: 39\n",
      "입력이 [44]일 때 target: 53\n",
      "입력이 [44, 53]일 때 target: 56\n",
      "입력이 [44, 53, 56]일 때 target: 1\n",
      "입력이 [44, 53, 56, 1]일 때 target: 58\n",
      "입력이 [44, 53, 56, 1, 58]일 때 target: 46\n",
      "입력이 [44, 53, 56, 1, 58, 46]일 때 target: 39\n",
      "입력이 [44, 53, 56, 1, 58, 46, 39]일 때 target: 58\n",
      "입력이 [44, 53, 56, 1, 58, 46, 39, 58]일 때 target: 1\n",
      "입력이 [52]일 때 target: 58\n",
      "입력이 [52, 58]일 때 target: 1\n",
      "입력이 [52, 58, 1]일 때 target: 58\n",
      "입력이 [52, 58, 1, 58]일 때 target: 46\n",
      "입력이 [52, 58, 1, 58, 46]일 때 target: 39\n",
      "입력이 [52, 58, 1, 58, 46, 39]일 때 target: 58\n",
      "입력이 [52, 58, 1, 58, 46, 39, 58]일 때 target: 1\n",
      "입력이 [52, 58, 1, 58, 46, 39, 58, 1]일 때 target: 46\n",
      "입력이 [25]일 때 target: 17\n",
      "입력이 [25, 17]일 때 target: 27\n",
      "입력이 [25, 17, 27]일 때 target: 10\n",
      "입력이 [25, 17, 27, 10]일 때 target: 0\n",
      "입력이 [25, 17, 27, 10, 0]일 때 target: 21\n",
      "입력이 [25, 17, 27, 10, 0, 21]일 때 target: 1\n",
      "입력이 [25, 17, 27, 10, 0, 21, 1]일 때 target: 54\n",
      "입력이 [25, 17, 27, 10, 0, 21, 1, 54]일 때 target: 39\n"
     ]
    }
   ],
   "source": [
    "# 모델의 batch size를 정한다. \n",
    "torch.manual_seed(1337)\n",
    "batch_size = 4\n",
    "context_length = 8\n",
    "\n",
    "def get_batch(split):\n",
    "    '''\n",
    "    get_batch: \n",
    "\n",
    "    split: 어떤 데이터에 대한 batch를 불러올 건지 결정. \n",
    "    'train'인 경우 train_data에 대해서, 아닌 경우 val_data에 대해서 가져옴.\n",
    "    '''\n",
    "    # 데이터 불러오기\n",
    "    data = train_data if split == 'train' else val_data \n",
    "\n",
    "    # batch size 개수의 랜덤한 offset 생성. \n",
    "    ix = torch.randint(len(data) - context_length, (batch_size,)) \n",
    "\n",
    "    # 랜덤 생성한 시작지점 ix에 대한 x, y 가져오기\n",
    "    x = torch.stack([data[i : i + context_length] for i in ix])\n",
    "    y = torch.stack([data[i + 1 : i + context_length + 1] for i in ix])\n",
    "    return x, y\n",
    "\n",
    "xb, yb = get_batch('train')\n",
    "print('입력: ')\n",
    "print(xb.shape)\n",
    "print(xb)\n",
    "\n",
    "for l in xb.tolist():\n",
    "    print(decode(l))\n",
    "print(\"========================================\")\n",
    "print('target: ')\n",
    "print(yb.shape)\n",
    "print(yb)\n",
    "\n",
    "for l in yb.tolist():\n",
    "    print(decode(l))\n",
    "\n",
    "print('========================================')\n",
    "\n",
    "for btch in range(batch_size):\n",
    "    for ctxt in range(context_length):\n",
    "        context = xb[btch, : ctxt + 1]\n",
    "        target = yb[btch, ctxt]\n",
    "        print(f'입력이 {context.tolist()}일 때 target: {target}')"
   ]
  },
  {
   "cell_type": "markdown",
   "metadata": {},
   "source": [
    "- get_batch 함수를 통해 context_length 길이의 '문장'을(정확히 말하면 문장은 아님) batch_size 개만큼 가져옴.\n",
    "- 즉, batch_size x context_length shape의 tensor x, y를 구성.\n",
    "- x는 주어진 context, y는 주어진 context에 대한 정답(target)"
   ]
  },
  {
   "cell_type": "code",
   "execution_count": 85,
   "metadata": {},
   "outputs": [
    {
     "name": "stdout",
     "output_type": "stream",
     "text": [
      "tensor([[24, 43, 58,  5, 57,  1, 46, 43],\n",
      "        [44, 53, 56,  1, 58, 46, 39, 58],\n",
      "        [52, 58,  1, 58, 46, 39, 58,  1],\n",
      "        [25, 17, 27, 10,  0, 21,  1, 54]])\n"
     ]
    }
   ],
   "source": [
    "print(xb)"
   ]
  },
  {
   "cell_type": "markdown",
   "metadata": {},
   "source": [
    "# 4. Model 정의"
   ]
  },
  {
   "cell_type": "markdown",
   "metadata": {},
   "source": [
    "### 1. Bigram Language Model"
   ]
  },
  {
   "cell_type": "code",
   "execution_count": 86,
   "metadata": {},
   "outputs": [
    {
     "name": "stdout",
     "output_type": "stream",
     "text": [
      "torch.Size([32, 65])\n",
      "tensor(4.8786, grad_fn=<NllLossBackward0>)\n"
     ]
    }
   ],
   "source": [
    "import torch\n",
    "import torch.nn as nn\n",
    "from torch.nn import functional as F\n",
    "\n",
    "torch.manual_seed(1337)\n",
    "\n",
    "class BigramLanguageModelVer1(nn.Module):\n",
    "\n",
    "    def __init__(self, vocab_size):\n",
    "        super().__init__()\n",
    "\n",
    "        # 토큰 임베딩 테이블 정의\n",
    "        self.token_embedding_table = nn.Embedding(vocab_size, vocab_size)\n",
    "\n",
    "    def forward(self, idx, targets):\n",
    "\n",
    "        '''\n",
    "        idx: (B, T) tensor. x가 들어갈 위치(input)\n",
    "        targets: (B, T) tensor. y가 들어갈 위치(target)\n",
    "        logits: (B, T, C) tensor. 여기서 C는 Channel로, 여기서는 vocab_size를 나타냄. \n",
    "\n",
    "        즉, C개의 문자가 각 (B, T)의 예측 target에 해당할 각각의 logit을 나타낸 것. \n",
    "        '''\n",
    "        \n",
    "        # 토큰 임베딩 테이블을 lookup하여 logit 구함\n",
    "        logits = self.token_embedding_table(idx)\n",
    "\n",
    "        # 구한 logit과 target을 비교하여 loss 계산\n",
    "\n",
    "        # 차원을 맞추기 위한 작업\n",
    "        # loss를 계산하려면 B, C, T의 shape이어야 함. \n",
    "        # logit과 target을 모두 B*T로 차원 축소해서 길게 늘린 뒤 비교\n",
    "        # 자세한 건 pytorch 공식문서 읽어보기!!!! \n",
    "        B, T, C = logits.shape\n",
    "        logits = logits.view(B * T, C)\n",
    "        targets = targets.view(B*T) # -1\n",
    "        loss = F.cross_entropy(logits, targets) # Negative Log Likelihood 사용 \n",
    "        # -ln(1/65) ~= 4.17\n",
    "\n",
    "        return logits, loss\n",
    "    \n",
    "m = BigramLanguageModelVer1(vocab_size)\n",
    "logits, loss = m(xb, yb) # forward 함수 실행됨\n",
    "print(logits.shape)\n",
    "print(loss)"
   ]
  },
  {
   "cell_type": "markdown",
   "metadata": {},
   "source": [
    "이 모델은 각 토큰끼리의 정보 교환(어텐션, 피드 포워딩 등)을 일절 하지 않은 채 '현재 해당하는 토큰 임베딩값'만으로 다음 토큰을 예측하는 모델임."
   ]
  },
  {
   "cell_type": "markdown",
   "metadata": {},
   "source": [
    "랜덤 초기화된 임베딩 테이블을 그대로 사용해 예측을 수행했기 때문에 단순 찍기에 달하는 성능을 보인다... (당연한 게 이 모델이 단순 찍기 모델이기 때문이다)\n",
    "\n",
    "찍기의 loss 기댓값은 -ln(1/65) ~= 4.17이지만 우리의 모델은 4.87을 보이는 중. \n",
    "\n",
    "이제 이 모델로 생성을 해보자!"
   ]
  },
  {
   "cell_type": "markdown",
   "metadata": {},
   "source": [
    "### BigramLanguageModel - generate 추가 버전"
   ]
  },
  {
   "cell_type": "code",
   "execution_count": 87,
   "metadata": {},
   "outputs": [
    {
     "name": "stdout",
     "output_type": "stream",
     "text": [
      "torch.Size([32, 65])\n",
      "tensor(4.8786, grad_fn=<NllLossBackward0>)\n"
     ]
    }
   ],
   "source": [
    "import torch\n",
    "import torch.nn as nn\n",
    "from torch.nn import functional as F\n",
    "\n",
    "torch.manual_seed(1337)\n",
    "\n",
    "class BigramLanguageModel(nn.Module):\n",
    "\n",
    "    def __init__(self, vocab_size):\n",
    "        super().__init__()\n",
    "\n",
    "        # 토큰 임베딩 테이블 정의\n",
    "        self.token_embedding_table = nn.Embedding(vocab_size, vocab_size)\n",
    "\n",
    "    # target 여부를 optional로 두어야!\n",
    "    def forward(self, idx, targets=None):\n",
    "\n",
    "        '''\n",
    "        idx: (B, T) tensor. x가 들어갈 위치(input)\n",
    "        targets: (B, T) tensor. y가 들어갈 위치(target)\n",
    "        logits: (B, T, C) tensor. 여기서 C는 Channel로, 여기서는 vocab_size를 나타냄. \n",
    "\n",
    "        즉, C개의 문자가 각 (B, T)의 예측 target에 해당할 각각의 logit을 나타낸 것. \n",
    "        '''\n",
    "        \n",
    "        # 토큰 임베딩 테이블을 lookup하여 logit 구함\n",
    "        logits = self.token_embedding_table(idx)\n",
    "\n",
    "        if targets is None:\n",
    "            loss = None\n",
    "        else:\n",
    "            # 구한 logit과 target을 비교하여 loss 계산\n",
    "\n",
    "            # 차원을 맞추기 위한 작업\n",
    "            # loss를 계산하려면 B, C, T의 shape이어야 함. \n",
    "            # logit과 target을 모두 B*T로 차원 축소해서 길게 늘린 뒤 비교\n",
    "            # 자세한 건 pytorch 공식문서 읽어보기!!!! \n",
    "            B, T, C = logits.shape\n",
    "            logits = logits.view(B * T, C)\n",
    "            targets = targets.view(B*T) # -1\n",
    "            loss = F.cross_entropy(logits, targets) # Negative Log Likelihood 사용 \n",
    "            # -ln(1/65) ~= 4.17\n",
    "\n",
    "        return logits, loss\n",
    "    \n",
    "    def generate(self, idx, max_new_tokens):\n",
    "        '''\n",
    "        idx: x\n",
    "        max_new_tokens: 생성 가능한 최대 토큰 개수수\n",
    "        '''\n",
    "\n",
    "        for _ in range(max_new_tokens):\n",
    "            \n",
    "            # forward로 logit과 loss 계산\n",
    "            logits, loss = self(idx)\n",
    "\n",
    "            # 각 batch의 마지막 문자에 대한 예측만 취함(Bi-gram이기 때문!)\n",
    "            logits = logits[:, -1, :] # (B, T, C) -> (B, C)\n",
    "\n",
    "            # 여기서 들 수 있는 의문점: 어차피 마지막 문자에 대한 예측만 볼 거면서 왜 \n",
    "            # 계속 늘어나는 idx를 그대로 forward에 넣고 있을까?\n",
    "            # 나중에 모델을 N-gram으로 확장할 때 함수의 형태를 최대한 일관되게 하려고 함\n",
    "            # 연산은 비효율적이지만 공부하는데에는 이렇게 하는게 좋을 듯. \n",
    "\n",
    "            # Softmax 거쳐서 확률 계산\n",
    "            probs = F.softmax(logits, dim = -1) # (B, C)\n",
    "\n",
    "            # 분포에 따라 추출(예측 생성성)\n",
    "            idx_next = torch.multinomial(probs, num_samples=1) # (B, 1)\n",
    "\n",
    "            # 각 batch에 대한 예측 결과를 x의 맨 끝에 append\n",
    "            idx = torch.cat((idx, idx_next), dim = 1) # (B, T + 1)\n",
    "        \n",
    "        # 위 loop가 돌면서 idx는 (B, T + 1), (B, T + 2), ... , (B, T + max_new_tokens)의 shape이 됨.\n",
    "        return idx\n",
    "    \n",
    "m = BigramLanguageModel(vocab_size)\n",
    "logits, loss = m(xb, yb) # forward 함수 실행됨\n",
    "print(logits.shape)\n",
    "print(loss)"
   ]
  },
  {
   "cell_type": "code",
   "execution_count": 88,
   "metadata": {},
   "outputs": [
    {
     "name": "stdout",
     "output_type": "stream",
     "text": [
      "\n",
      "Sr?qP-QWktXoL&jLDJgOLVz'RIoDqHdhsV&vLLxatjscMpwLERSPyao.qfzs$Ys$zF-w,;eEkzxjgCKFChs!iWW.ObzDnxA Ms$3\n"
     ]
    }
   ],
   "source": [
    "idx = torch.zeros((1, 1), dtype=torch.long) # 0에서 생성 시작. \n",
    "# 0은 \\n 문자임!\n",
    "print(decode(m.generate(idx, max_new_tokens=100)[0].tolist()))"
   ]
  },
  {
   "cell_type": "markdown",
   "metadata": {},
   "source": [
    "역시 개판임을 볼 수 있다!\n",
    "이제 이 모델을 학습시켜 보자!\n"
   ]
  },
  {
   "cell_type": "code",
   "execution_count": 89,
   "metadata": {},
   "outputs": [],
   "source": [
    "# optimizer\n",
    "optimizer = torch.optim.AdamW(m.parameters(), lr=1e-3)"
   ]
  },
  {
   "cell_type": "code",
   "execution_count": 98,
   "metadata": {},
   "outputs": [
    {
     "name": "stdout",
     "output_type": "stream",
     "text": [
      "2.514219284057617\n"
     ]
    }
   ],
   "source": [
    "batch_size = 32\n",
    "for steps in range(10000):\n",
    "    xb, yb = get_batch('train')\n",
    "\n",
    "    logits, loss = m(xb, yb)\n",
    "    optimizer.zero_grad(set_to_none=True)\n",
    "    loss.backward()\n",
    "    optimizer.step()\n",
    "\n",
    "print(loss.item())"
   ]
  },
  {
   "cell_type": "code",
   "execution_count": 100,
   "metadata": {},
   "outputs": [
    {
     "name": "stdout",
     "output_type": "stream",
     "text": [
      "\n",
      "HAnour w m, f m outr I omounour.\n",
      "An:\n",
      "CEDou chean' th lly, t pofe inorir t say ithelin u!\n",
      "\n",
      "mmf ar thirt youd'duretherk w t tese toputha s ir morovesellaisa RYopur.\n",
      "\n",
      "N:\n",
      "NRLLAny!\n",
      "Youse ortherid argareswors ltour. hothee dg tinere\n",
      "My. t otyoo 'd t mavim'llisqu'ssby hay trd f t AS:\n",
      "pr bu amees, tl hopu it g ans kn:\n",
      "MESedigrves st ceary;\n",
      "Ana or: hind ould\n",
      "HAy fonth ard m:\n",
      "Pe VIEN tway h awinghem lt stut\n"
     ]
    }
   ],
   "source": [
    "print(decode(m.generate(idx=torch.zeros((1, 1), dtype=torch.long), max_new_tokens=400)[0].tolist()))"
   ]
  },
  {
   "cell_type": "markdown",
   "metadata": {},
   "source": [
    "오... 이제 좀 뭔가 따라하려는 흔적이 보이기 시작한다!\n",
    "\n",
    "여기까지 내용을 bigram.py로 저장"
   ]
  },
  {
   "cell_type": "code",
   "execution_count": null,
   "metadata": {},
   "outputs": [],
   "source": []
  }
 ],
 "metadata": {
  "kernelspec": {
   "display_name": "GPTFromScratch",
   "language": "python",
   "name": "python3"
  },
  "language_info": {
   "codemirror_mode": {
    "name": "ipython",
    "version": 3
   },
   "file_extension": ".py",
   "mimetype": "text/x-python",
   "name": "python",
   "nbconvert_exporter": "python",
   "pygments_lexer": "ipython3",
   "version": "3.8.20"
  }
 },
 "nbformat": 4,
 "nbformat_minor": 2
}
